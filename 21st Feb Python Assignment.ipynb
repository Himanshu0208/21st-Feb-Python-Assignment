{
 "cells": [
  {
   "cell_type": "markdown",
   "id": "1e909ce6-85f7-45fe-91b9-19a1e46bf7ec",
   "metadata": {},
   "source": [
    "# __Ques 1__\n",
    "Web scraping is an automatic method to obtain large amounts of data from websites. Most of this data is unstructured data in an HTML format which is then converted into structured data in a spreadsheet or a database so that it can be used in various applications.\n",
    "<br><br>\n",
    "\n",
    "The data which com efrom web scrapping is very useful for firms like we scrapped the reviews which can be used to decrease the faults and improve sales.\n",
    "<br><br>\n",
    "\n",
    "Three places where web scrapping is used are:\n",
    "1. __Price Monitoring :__ Web Scraping can be used by companies to scrap the product data for their products and competing products as well to see how it impacts their pricing strategies. Companies can use this data to fix the optimal pricing for their products so that they can obtain maximum revenue.\n",
    "\n",
    "2. __Market Research :__ Web scraping can be used for market research by companies. High-quality web scraped data obtained in large volumes can be very helpful for companies in analyzing consumer trends and understanding which direction the company should move in the future. \n",
    "\n",
    "3. __News Monitoring :__ Web scraping news sites can provide detailed reports on the current news to a company. This is even more essential for companies that are frequently in the news or that depend on daily news for their day-to-day functioning. After all, news reports can make or break a company in a single day!"
   ]
  },
  {
   "cell_type": "markdown",
   "id": "890fcd9d-4a8b-43af-8d84-51501b1c6a70",
   "metadata": {},
   "source": [
    "# __Ques 2__\n",
    "1. __Manual Scraping :__ web scraping can be done manually. All you need is the ability to copy/paste information and a spreadsheet to keep track of the extracted data.\n",
    "2. __Automated Scraping :__ Automated web scraping tools have become increasingly popular due their ease of use and savings in time and costs.These tools also come in many different shapes and sizes, from simple browser extensions to more powerful software solutions.\n",
    "3. __Outsourced Scrapping :__ you might not want to bother with managing your web scraping projects yourself. In this scenario, you might decide to outsource your web scraping projects.In this case, you must be wary of the methods used by the contractor you have selected."
   ]
  },
  {
   "cell_type": "markdown",
   "id": "aa2e3f0e-52a8-4f21-b1ba-3b88051a6a1b",
   "metadata": {},
   "source": [
    "# __Ques 3__\n",
    "Beautiful Soup is a python library which is used to butifying documents it makes some indentation ,  and new line change which make it easier to read an html document, text document etc. and hence makes it somewhat simple for us to scrap the html"
   ]
  },
  {
   "cell_type": "markdown",
   "id": "ae273c79-b06b-48ba-808d-ed71da2aa291",
   "metadata": {},
   "source": [
    "# __Ques 4__\n",
    "flask is used to create the backend server to make get requests from the product link"
   ]
  },
  {
   "cell_type": "markdown",
   "id": "56d4e974-f5f1-44ca-acb2-dba6d79e4768",
   "metadata": {},
   "source": [
    "# __Ques 5__\n",
    "The AWS services used were:\n",
    "1. __code pipeline :__ The code pipeline is used to get code from github and sending to bean stack.\n",
    "2. __Beanstack :__ It gives the resourse to our application and make our server up and running."
   ]
  }
 ],
 "metadata": {
  "kernelspec": {
   "display_name": "Python 3 (ipykernel)",
   "language": "python",
   "name": "python3"
  },
  "language_info": {
   "codemirror_mode": {
    "name": "ipython",
    "version": 3
   },
   "file_extension": ".py",
   "mimetype": "text/x-python",
   "name": "python",
   "nbconvert_exporter": "python",
   "pygments_lexer": "ipython3",
   "version": "3.10.8"
  }
 },
 "nbformat": 4,
 "nbformat_minor": 5
}
